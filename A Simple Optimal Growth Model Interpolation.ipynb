{
 "cells": [
  {
   "cell_type": "code",
   "execution_count": 1,
   "metadata": {
    "collapsed": false
   },
   "outputs": [
    {
     "data": {
      "text/plain": [
       "lin_inter (generic function with 1 method)"
      ]
     },
     "execution_count": 1,
     "metadata": {},
     "output_type": "execute_result"
    }
   ],
   "source": [
    "include(\"lin_int2.jl\")"
   ]
  },
  {
   "cell_type": "code",
   "execution_count": 2,
   "metadata": {
    "collapsed": false
   },
   "outputs": [
    {
     "data": {
      "text/plain": [
       "main (generic function with 2 methods)"
      ]
     },
     "execution_count": 2,
     "metadata": {},
     "output_type": "execute_result"
    }
   ],
   "source": [
    "#=\n",
    "A first pass at solving the optimal growth problem via value function\n",
    "iteration.  A more general version is provided in optgrowth.py.\n",
    "\n",
    "@author : Spencer Lyon <spencer.lyon@nyu.edu>\n",
    "=#\n",
    "\n",
    "using Optim: optimize\n",
    "using Grid: CoordInterpGrid, BCnan, InterpLinear\n",
    "using Plots\n",
    "pyplot()\n",
    "\n",
    "## Primitives and grid\n",
    "alpha = 0.65\n",
    "bet = 0.95\n",
    "grid_max = 2\n",
    "grid_size = 150\n",
    "grid = 1e-6:(grid_max-1e-6)/(grid_size-1):grid_max\n",
    "\n",
    "## Exact solution\n",
    "ab = alpha * bet\n",
    "c1 = (log(1 - ab) + log(ab) * ab / (1 - ab)) / (1 - bet)\n",
    "c2 = alpha / (1 - ab)\n",
    "v_star(k) = c1 .+ c2 .* log(k)\n",
    "\n",
    "\n",
    "function bellman_operator(grid, w)\n",
    "    Aw = lin_inter(grid, w)\n",
    "\n",
    "    Tw = zeros(w)\n",
    "\n",
    "    for (i, k) in enumerate(grid)\n",
    "        objective(c) = - log(c) - bet * Aw(k^alpha - c)\n",
    "        res = optimize(objective, 1e-6, k^alpha)\n",
    "        Tw[i] = - objective(res.minimum)\n",
    "    end\n",
    "    return Tw\n",
    "end\n",
    "\n",
    "function main(n::Int=35)\n",
    "    w_init = 5 .* log(grid) .- 25  # An initial condition -- fairly arbitrary\n",
    "    w = copy(w_init)\n",
    "\n",
    "    ws = []\n",
    "    colors = []\n",
    "    for i=1:n\n",
    "        w = bellman_operator(grid, w)\n",
    "        push!(ws, w)\n",
    "        push!(colors, RGBA(0, 0, 0, i/n))\n",
    "    end\n",
    "\n",
    "    p = plot(grid, w_init, color=:green, linewidth=2, alpha=0.6,\n",
    "         label=\"initial condition\")\n",
    "    plot!(grid, ws, color=colors', label=\"\", linewidth=2)\n",
    "    plot!(grid, v_star(grid), color=:blue, linewidth=2, alpha=0.8,\n",
    "         label=\"true value function\")\n",
    "    plot!(ylims=(-40, -20), xlims=(minimum(grid), maximum(grid)))\n",
    "\n",
    "    return p\n",
    "end"
   ]
  },
  {
   "cell_type": "code",
   "execution_count": 3,
   "metadata": {
    "collapsed": false,
    "scrolled": true
   },
   "outputs": [
    {
     "name": "stdout",
     "output_type": "stream",
     "text": [
      "Error"
     ]
    },
    {
     "ename": "LoadError",
     "evalue": "LoadError: MethodError: no method matching *(::Float64, ::Void)\nClosest candidates are:\n  *(::Any, ::Any, !Matched::Any, !Matched::Any...) at operators.jl:138\n  *(::Float64, !Matched::Float64) at float.jl:244\n  *(::Real, !Matched::Complex{Bool}) at complex.jl:158\n  ...\nwhile loading In[3], in expression starting on line 1",
     "output_type": "error",
     "traceback": [
      "LoadError: MethodError: no method matching *(::Float64, ::Void)\nClosest candidates are:\n  *(::Any, ::Any, !Matched::Any, !Matched::Any...) at operators.jl:138\n  *(::Float64, !Matched::Float64) at float.jl:244\n  *(::Real, !Matched::Complex{Bool}) at complex.jl:158\n  ...\nwhile loading In[3], in expression starting on line 1",
      "",
      " in #optimize#73(::Float64, ::Float64, ::Int64, ::Bool, ::Bool, ::Void, ::Int64, ::Bool, ::Optim.#optimize, ::#objective#2{#func#1{FloatRange{Float64},Array{Float64,1}}}, ::Float64, ::Float64, ::Optim.Brent) at C:\\Users\\Ryota Tsushima\\.julia\\v0.5\\Optim\\src\\brent.jl:122",
      " in (::Optim.#kw##optimize)(::Array{Any,1}, ::Optim.#optimize, ::Function, ::Float64, ::Float64, ::Optim.Brent) at .\\<missing>:0",
      " in #optimize#90(::Optim.Brent, ::Float64, ::Float64, ::Int64, ::Bool, ::Bool, ::Void, ::Int64, ::Bool, ::Optim.#optimize, ::#objective#2{#func#1{FloatRange{Float64},Array{Float64,1}}}, ::Float64, ::Float64) at C:\\Users\\Ryota Tsushima\\.julia\\v0.5\\Optim\\src\\optimize.jl:237",
      " in optimize(::Function, ::Float64, ::Float64) at C:\\Users\\Ryota Tsushima\\.julia\\v0.5\\Optim\\src\\optimize.jl:230",
      " in bellman_operator(::FloatRange{Float64}, ::Array{Float64,1}) at .\\In[2]:34",
      " in main(::Int64) at .\\In[2]:47",
      " in main() at .\\In[2]:41"
     ]
    }
   ],
   "source": [
    "main()"
   ]
  },
  {
   "cell_type": "code",
   "execution_count": null,
   "metadata": {
    "collapsed": true
   },
   "outputs": [],
   "source": []
  }
 ],
 "metadata": {
  "kernelspec": {
   "display_name": "Julia 0.5.0",
   "language": "julia",
   "name": "julia-0.5"
  },
  "language_info": {
   "file_extension": ".jl",
   "mimetype": "application/julia",
   "name": "julia",
   "version": "0.5.0"
  }
 },
 "nbformat": 4,
 "nbformat_minor": 0
}
