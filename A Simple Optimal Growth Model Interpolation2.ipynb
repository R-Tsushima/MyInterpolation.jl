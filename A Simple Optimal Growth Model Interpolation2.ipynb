{
 "cells": [
  {
   "cell_type": "code",
   "execution_count": 3,
   "metadata": {
    "collapsed": false,
    "scrolled": false
   },
   "outputs": [
    {
     "data": {
      "text/plain": [
       "lin_inter (generic function with 1 method)"
      ]
     },
     "execution_count": 3,
     "metadata": {},
     "output_type": "execute_result"
    }
   ],
   "source": [
    "include(\"lin_int2.jl\")"
   ]
  },
  {
   "cell_type": "code",
   "execution_count": 4,
   "metadata": {
    "collapsed": false,
    "scrolled": true
   },
   "outputs": [
    {
     "name": "stdout",
     "output_type": "stream",
     "text": [
      "function lin_inter(grid,vals)\n",
      "    function func(x::Real)\n",
      "        if x <= grid[1]\n",
      "            return (vals[2] - vals[1])/(grid[2] - grid[1])*(x - grid[1]) + vals[1]\n",
      "        elseif x >= grid[end]\n",
      "            return (vals[end] - vals[end-1])/(grid[end] - grid[end-1])*(x - grid[end]) + vals[end]\n",
      "        else\n",
      "            index = searchsortedlast(grid,x)\n",
      "            return (vals[index+1] - vals[index])/(grid[index+1] - grid[index])*(x - grid[index]) + vals[index]\n",
      "        end\n",
      "    end\n",
      "\n",
      "    function func{T<:Real}(x::AbstractVector{T})\n",
      "        m = length(x)\n",
      "        out = Array(Any,m)\n",
      "        for i in 1:m\n",
      "            out[i] = func(x[i])\n",
      "        end\n",
      "        return out\n",
      "    end\n",
      "    return func\n",
      "\n",
      "end\n",
      "\n"
     ]
    }
   ],
   "source": [
    "println(readstring(`cmd /c type lin_int2.jl`))"
   ]
  },
  {
   "cell_type": "code",
   "execution_count": 5,
   "metadata": {
    "collapsed": false
   },
   "outputs": [
    {
     "data": {
      "text/plain": [
       "main (generic function with 2 methods)"
      ]
     },
     "execution_count": 5,
     "metadata": {},
     "output_type": "execute_result"
    }
   ],
   "source": [
    "#=\n",
    "Solving the optimal growth problem via value function iteration.\n",
    "\n",
    "@author : Spencer Lyon <spencer.lyon@nyu.edu>\n",
    "\n",
    "@date : 2014-07-05\n",
    "\n",
    "References\n",
    "----------\n",
    "\n",
    "Simple port of the file quantecon.models.optgrowth\n",
    "\n",
    "http://quant-econ.net/jl/dp_intro.html\n",
    "=#\n",
    "\n",
    "#=\n",
    "    This type defines the primitives representing the growth model. The\n",
    "    default values are\n",
    "\n",
    "        f(k) = k**alpha, i.e, Cobb-Douglas production function\n",
    "        u(c) = ln(c), i.e, log utility\n",
    "\n",
    "    See the constructor below for details\n",
    "=#\n",
    "using PyPlot\n",
    "using Optim\n",
    "\n",
    "\"\"\"\n",
    "Neoclassical growth model\n",
    "\n",
    "##### Fields\n",
    "\n",
    "- `f::Function` : Production function\n",
    "- `bet::Real` : Discount factor in (0, 1)\n",
    "- `u::Function` : Utility function\n",
    "- `grid_max::Int` : Maximum for grid over savings values\n",
    "- `grid_size::Int` : Number of points in grid for savings values\n",
    "- `grid::LinSpace{Float64}` : The grid for savings values\n",
    "\n",
    "\"\"\"\n",
    "type GrowthModel\n",
    "    f::Function\n",
    "    bet::Float64\n",
    "    u::Function\n",
    "    grid_max::Int\n",
    "    grid_size::Int\n",
    "    grid::LinSpace{Float64}\n",
    "end\n",
    "\n",
    "\n",
    "default_f(k) = k^0.65\n",
    "default_u(c) = log(c)\n",
    "\n",
    "\"\"\"\n",
    "Constructor of `GrowthModel`\n",
    "\n",
    "##### Arguments\n",
    "\n",
    "- `f::Function(k->k^0.65)` : Production function\n",
    "- `bet::Real(0.95)` : Discount factor in (0, 1)\n",
    "- `u::Function(log)` : Utility function\n",
    "- `grid_max::Int(2)` : Maximum for grid over savings values\n",
    "- `grid_size::Int(150)` : Number of points in grid for savings values\n",
    "\n",
    "\"\"\"\n",
    "function GrowthModel(f=default_f, bet=0.95, u=default_u, grid_max=2,\n",
    "                     grid_size=150)\n",
    "    grid = linspace(1e-6, grid_max, grid_size)\n",
    "    return GrowthModel(f, bet, u, grid_max, grid_size, grid)\n",
    "end\n",
    "\n",
    "\"\"\"\n",
    "Apply the Bellman operator for a given model and initial value.\n",
    "\n",
    "##### Arguments\n",
    "\n",
    "- `g::GrowthModel` : Instance of `GrowthModel`\n",
    "- `w::Vector`: Current guess for the value function\n",
    "- `out::Vector` : Storage for output.\n",
    "- `;ret_policy::Bool(false)`: Toggles return of value or policy functions\n",
    "\n",
    "##### Returns\n",
    "\n",
    "None, `out` is updated in place. If `ret_policy == true` out is filled with the\n",
    "policy function, otherwise the value function is stored in `out`.\n",
    "\n",
    "\"\"\"\n",
    "function bellman_operator!(g::GrowthModel, w::Vector, out::Vector;\n",
    "                           ret_policy::Bool=false)\n",
    "    # Apply linear interpolation to w\n",
    "    Aw = lin_inter(g.grid, w)\n",
    "\n",
    "    for (i, k) in enumerate(g.grid)\n",
    "        objective(c) = - g.u(c) - g.bet * Aw(g.f(k) - c)\n",
    "        res = optimize(objective, 1e-6, g.f(k))\n",
    "        c_star = res.minimum\n",
    "\n",
    "        if ret_policy\n",
    "            # set the policy equal to the optimal c\n",
    "            out[i] = c_star\n",
    "        else\n",
    "            # set Tw[i] equal to max_c { u(c) + beta w(f(k_i) - c)}\n",
    "            out[i] = - objective(c_star)\n",
    "        end\n",
    "    end\n",
    "\n",
    "    return out\n",
    "end\n",
    "\n",
    "function bellman_operator(g::GrowthModel, w::Vector;\n",
    "                          ret_policy::Bool=false)\n",
    "    out = similar(w)\n",
    "    bellman_operator!(g, w, out, ret_policy=ret_policy)\n",
    "end\n",
    "\n",
    "\"\"\"\n",
    "Extract the greedy policy (policy function) of the model.\n",
    "\n",
    "##### Arguments\n",
    "\n",
    "- `g::GrowthModel` : Instance of `GrowthModel`\n",
    "- `w::Vector`: Current guess for the value function\n",
    "- `out::Vector` : Storage for output\n",
    "\n",
    "##### Returns\n",
    "\n",
    "None, `out` is updated in place to hold the policy function\n",
    "\n",
    "\"\"\"\n",
    "function get_greedy!(g::GrowthModel, w::Vector, out::Vector)\n",
    "    bellman_operator!(g, w, out, ret_policy=true)\n",
    "end\n",
    "\n",
    "get_greedy(g::GrowthModel, w::Vector) = bellman_operator(g, w, ret_policy=true)\n",
    "\n",
    "gm = GrowthModel()\n",
    "alpha = 0.65\n",
    "bet = gm.bet\n",
    "grid_max = gm.grid_max\n",
    "grid_size = gm.grid_size\n",
    "grid = gm.grid\n",
    "\n",
    "ab = alpha * gm.bet\n",
    "c1 = (log(1 - ab) + log(ab) * ab / (1 - ab)) / (1 - gm.bet)\n",
    "c2 = alpha / (1 - ab)\n",
    "v_star(k) = c1 .+ c2 .* log(k)\n",
    "\n",
    "function main(n::Int=35)\n",
    "    w_init = 5 .* log(grid) .- 25  # An initial condition -- fairly arbitrary\n",
    "    w = copy(w_init)\n",
    "\n",
    "    ws = []\n",
    "    colors = []\n",
    "    for i=1:n\n",
    "        w = bellman_operator(gm, w)\n",
    "        push!(ws, w)\n",
    "        push!(colors, RGBA(0, 0, 0, i/n))\n",
    "    end\n",
    "\n",
    "    p = plot(gm.grid, w_init, color=:green, linewidth=2, alpha=0.6,\n",
    "         label=\"initial condition\")\n",
    "    plot!(gm.grid, ws, color=colors', label=\"\", linewidth=2)\n",
    "    plot!(gm.grid, v_star(gm.grid), color=:blue, linewidth=2, alpha=0.8,\n",
    "         label=\"true value function\")\n",
    "    plot!(ylims=(-40, -20), xlims=(minimum(gm.grid), maximum(gm.grid)))\n",
    "\n",
    "    return p\n",
    "end\n"
   ]
  },
  {
   "cell_type": "code",
   "execution_count": 6,
   "metadata": {
    "collapsed": false,
    "scrolled": false
   },
   "outputs": [
    {
     "ename": "LoadError",
     "evalue": "LoadError: UndefVarError: RGBA not defined\nwhile loading In[6], in expression starting on line 1",
     "output_type": "error",
     "traceback": [
      "LoadError: UndefVarError: RGBA not defined\nwhile loading In[6], in expression starting on line 1",
      "",
      " in main(::Int64) at .\\In[5]:157",
      " in main() at .\\In[5]:149"
     ]
    }
   ],
   "source": [
    "main()"
   ]
  },
  {
   "cell_type": "code",
   "execution_count": null,
   "metadata": {
    "collapsed": true
   },
   "outputs": [],
   "source": []
  }
 ],
 "metadata": {
  "kernelspec": {
   "display_name": "Julia 0.5.0",
   "language": "julia",
   "name": "julia-0.5"
  },
  "language_info": {
   "file_extension": ".jl",
   "mimetype": "application/julia",
   "name": "julia",
   "version": "0.5.0"
  }
 },
 "nbformat": 4,
 "nbformat_minor": 0
}
