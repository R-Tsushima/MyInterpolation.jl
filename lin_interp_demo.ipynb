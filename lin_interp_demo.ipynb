{
 "cells": [
  {
   "cell_type": "code",
   "execution_count": 1,
   "metadata": {
    "collapsed": false
   },
   "outputs": [
    {
     "ename": "LoadError",
     "evalue": "LoadError: syntax: expected \"(\" in function definition\nwhile loading C:\\Users\\r28yn\\.julia\\v0.5\\MyInterpolations\\src\\MyInterpolations.jl, in expression starting on line 4",
     "output_type": "error",
     "traceback": [
      "LoadError: syntax: expected \"(\" in function definition\nwhile loading C:\\Users\\r28yn\\.julia\\v0.5\\MyInterpolations\\src\\MyInterpolations.jl, in expression starting on line 4",
      "",
      " in include_from_node1(::String) at .\\loading.jl:488",
      " in eval(::Module, ::Any) at .\\boot.jl:234",
      " in require(::Symbol) at .\\loading.jl:415"
     ]
    }
   ],
   "source": [
    "using MyInterpolations"
   ]
  },
  {
   "cell_type": "code",
   "execution_count": 2,
   "metadata": {
    "collapsed": false
   },
   "outputs": [
    {
     "name": "stderr",
     "output_type": "stream",
     "text": [
      "\u001b[1m\u001b[34mINFO: Cloning MyInterpolations from https://github.com/R-Tsushima/MyInterpolations.jl.git\n",
      "\u001b[0m\u001b[1m\u001b[34mINFO: Computing changes...\n",
      "\u001b[0m\u001b[1m\u001b[34mINFO: No packages to install, update or remove\n",
      "\u001b[0m"
     ]
    }
   ],
   "source": [
    "Pkg.clone(\"https://github.com/R-Tsushima/MyInterpolations.jl.git\")"
   ]
  },
  {
   "cell_type": "code",
   "execution_count": 5,
   "metadata": {
    "collapsed": false
   },
   "outputs": [
    {
     "ename": "LoadError",
     "evalue": "unknown package MyInterpolations\n in macro expansion at .\\pkg\\entry.jl:53 [inlined]\n in (::Base.Pkg.Entry.##2#5{String,Base.Pkg.Types.VersionSet})() at .\\task.jl:360",
     "output_type": "error",
     "traceback": [
      "unknown package MyInterpolations\n in macro expansion at .\\pkg\\entry.jl:53 [inlined]\n in (::Base.Pkg.Entry.##2#5{String,Base.Pkg.Types.VersionSet})() at .\\task.jl:360",
      "",
      " in sync_end() at .\\task.jl:311",
      " in macro expansion at .\\task.jl:327 [inlined]",
      " in add(::String, ::Base.Pkg.Types.VersionSet) at .\\pkg\\entry.jl:51",
      " in (::Base.Pkg.Dir.##2#3{Array{Any,1},Base.Pkg.Entry.#add,Tuple{String}})() at .\\pkg\\dir.jl:31",
      " in cd(::Base.Pkg.Dir.##2#3{Array{Any,1},Base.Pkg.Entry.#add,Tuple{String}}, ::String) at .\\file.jl:48",
      " in #cd#1(::Array{Any,1}, ::Function, ::Function, ::String, ::Vararg{Any,N}) at .\\pkg\\dir.jl:31",
      " in add(::String) at .\\pkg\\pkg.jl:100"
     ]
    }
   ],
   "source": [
    "Pkg.add(\"MyInterpolations\")"
   ]
  },
  {
   "cell_type": "code",
   "execution_count": null,
   "metadata": {
    "collapsed": true
   },
   "outputs": [],
   "source": []
  }
 ],
 "metadata": {
  "kernelspec": {
   "display_name": "Julia 0.5.1",
   "language": "julia",
   "name": "julia-0.5"
  },
  "language_info": {
   "file_extension": ".jl",
   "mimetype": "application/julia",
   "name": "julia",
   "version": "0.5.1"
  }
 },
 "nbformat": 4,
 "nbformat_minor": 2
}
